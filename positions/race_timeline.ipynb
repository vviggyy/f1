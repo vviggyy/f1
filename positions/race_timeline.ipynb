{
 "cells": [
  {
   "cell_type": "code",
   "execution_count": 8,
   "metadata": {},
   "outputs": [
    {
     "name": "stdout",
     "output_type": "stream",
     "text": [
      "zsh:1: no matches found: plotly[express]\n",
      "Requirement already satisfied: ipywidgets in /Users/viggy/mambaforge/lib/python3.10/site-packages (8.1.6)\n",
      "Requirement already satisfied: jupyterlab_widgets~=3.0.14 in /Users/viggy/mambaforge/lib/python3.10/site-packages (from ipywidgets) (3.0.14)\n",
      "Requirement already satisfied: ipython>=6.1.0 in /Users/viggy/mambaforge/lib/python3.10/site-packages (from ipywidgets) (8.13.2)\n",
      "Requirement already satisfied: comm>=0.1.3 in /Users/viggy/mambaforge/lib/python3.10/site-packages (from ipywidgets) (0.1.3)\n",
      "Requirement already satisfied: traitlets>=4.3.1 in /Users/viggy/mambaforge/lib/python3.10/site-packages (from ipywidgets) (5.9.0)\n",
      "Requirement already satisfied: widgetsnbextension~=4.0.14 in /Users/viggy/mambaforge/lib/python3.10/site-packages (from ipywidgets) (4.0.14)\n",
      "Requirement already satisfied: stack-data in /Users/viggy/mambaforge/lib/python3.10/site-packages (from ipython>=6.1.0->ipywidgets) (0.6.2)\n",
      "Requirement already satisfied: pickleshare in /Users/viggy/mambaforge/lib/python3.10/site-packages (from ipython>=6.1.0->ipywidgets) (0.7.5)\n",
      "Requirement already satisfied: matplotlib-inline in /Users/viggy/mambaforge/lib/python3.10/site-packages (from ipython>=6.1.0->ipywidgets) (0.1.6)\n",
      "Requirement already satisfied: appnope in /Users/viggy/mambaforge/lib/python3.10/site-packages (from ipython>=6.1.0->ipywidgets) (0.1.3)\n",
      "Requirement already satisfied: jedi>=0.16 in /Users/viggy/mambaforge/lib/python3.10/site-packages (from ipython>=6.1.0->ipywidgets) (0.18.2)\n",
      "Requirement already satisfied: pexpect>4.3 in /Users/viggy/mambaforge/lib/python3.10/site-packages (from ipython>=6.1.0->ipywidgets) (4.8.0)\n",
      "Requirement already satisfied: decorator in /Users/viggy/mambaforge/lib/python3.10/site-packages (from ipython>=6.1.0->ipywidgets) (5.1.1)\n",
      "Requirement already satisfied: pygments>=2.4.0 in /Users/viggy/mambaforge/lib/python3.10/site-packages (from ipython>=6.1.0->ipywidgets) (2.15.1)\n",
      "Requirement already satisfied: backcall in /Users/viggy/mambaforge/lib/python3.10/site-packages (from ipython>=6.1.0->ipywidgets) (0.2.0)\n",
      "Requirement already satisfied: prompt-toolkit!=3.0.37,<3.1.0,>=3.0.30 in /Users/viggy/mambaforge/lib/python3.10/site-packages (from ipython>=6.1.0->ipywidgets) (3.0.38)\n",
      "Requirement already satisfied: parso<0.9.0,>=0.8.0 in /Users/viggy/mambaforge/lib/python3.10/site-packages (from jedi>=0.16->ipython>=6.1.0->ipywidgets) (0.8.3)\n",
      "Requirement already satisfied: ptyprocess>=0.5 in /Users/viggy/mambaforge/lib/python3.10/site-packages (from pexpect>4.3->ipython>=6.1.0->ipywidgets) (0.7.0)\n",
      "Requirement already satisfied: wcwidth in /Users/viggy/mambaforge/lib/python3.10/site-packages (from prompt-toolkit!=3.0.37,<3.1.0,>=3.0.30->ipython>=6.1.0->ipywidgets) (0.2.6)\n",
      "Requirement already satisfied: asttokens>=2.1.0 in /Users/viggy/mambaforge/lib/python3.10/site-packages (from stack-data->ipython>=6.1.0->ipywidgets) (2.2.1)\n",
      "Requirement already satisfied: executing>=1.2.0 in /Users/viggy/mambaforge/lib/python3.10/site-packages (from stack-data->ipython>=6.1.0->ipywidgets) (1.2.0)\n",
      "Requirement already satisfied: pure-eval in /Users/viggy/mambaforge/lib/python3.10/site-packages (from stack-data->ipython>=6.1.0->ipywidgets) (0.2.2)\n",
      "Requirement already satisfied: six in /Users/viggy/mambaforge/lib/python3.10/site-packages (from asttokens>=2.1.0->stack-data->ipython>=6.1.0->ipywidgets) (1.16.0)\n",
      "Requirement already satisfied: ipympl in /Users/viggy/mambaforge/lib/python3.10/site-packages (0.9.7)\n",
      "Requirement already satisfied: numpy in /Users/viggy/mambaforge/lib/python3.10/site-packages (from ipympl) (1.24.3)\n",
      "Requirement already satisfied: ipython<10 in /Users/viggy/mambaforge/lib/python3.10/site-packages (from ipympl) (8.13.2)\n",
      "Requirement already satisfied: matplotlib<4,>=3.5.0 in /Users/viggy/mambaforge/lib/python3.10/site-packages (from ipympl) (3.8.1)\n",
      "Requirement already satisfied: traitlets<6 in /Users/viggy/mambaforge/lib/python3.10/site-packages (from ipympl) (5.9.0)\n",
      "Requirement already satisfied: pillow in /Users/viggy/mambaforge/lib/python3.10/site-packages (from ipympl) (10.0.1)\n",
      "Requirement already satisfied: ipywidgets<9,>=7.6.0 in /Users/viggy/mambaforge/lib/python3.10/site-packages (from ipympl) (8.1.6)\n",
      "Requirement already satisfied: backcall in /Users/viggy/mambaforge/lib/python3.10/site-packages (from ipython<10->ipympl) (0.2.0)\n",
      "Requirement already satisfied: prompt-toolkit!=3.0.37,<3.1.0,>=3.0.30 in /Users/viggy/mambaforge/lib/python3.10/site-packages (from ipython<10->ipympl) (3.0.38)\n",
      "Requirement already satisfied: decorator in /Users/viggy/mambaforge/lib/python3.10/site-packages (from ipython<10->ipympl) (5.1.1)\n",
      "Requirement already satisfied: pygments>=2.4.0 in /Users/viggy/mambaforge/lib/python3.10/site-packages (from ipython<10->ipympl) (2.15.1)\n",
      "Requirement already satisfied: appnope in /Users/viggy/mambaforge/lib/python3.10/site-packages (from ipython<10->ipympl) (0.1.3)\n",
      "Requirement already satisfied: jedi>=0.16 in /Users/viggy/mambaforge/lib/python3.10/site-packages (from ipython<10->ipympl) (0.18.2)\n",
      "Requirement already satisfied: pickleshare in /Users/viggy/mambaforge/lib/python3.10/site-packages (from ipython<10->ipympl) (0.7.5)\n",
      "Requirement already satisfied: matplotlib-inline in /Users/viggy/mambaforge/lib/python3.10/site-packages (from ipython<10->ipympl) (0.1.6)\n",
      "Requirement already satisfied: pexpect>4.3 in /Users/viggy/mambaforge/lib/python3.10/site-packages (from ipython<10->ipympl) (4.8.0)\n",
      "Requirement already satisfied: stack-data in /Users/viggy/mambaforge/lib/python3.10/site-packages (from ipython<10->ipympl) (0.6.2)\n",
      "Requirement already satisfied: widgetsnbextension~=4.0.14 in /Users/viggy/mambaforge/lib/python3.10/site-packages (from ipywidgets<9,>=7.6.0->ipympl) (4.0.14)\n",
      "Requirement already satisfied: jupyterlab_widgets~=3.0.14 in /Users/viggy/mambaforge/lib/python3.10/site-packages (from ipywidgets<9,>=7.6.0->ipympl) (3.0.14)\n",
      "Requirement already satisfied: comm>=0.1.3 in /Users/viggy/mambaforge/lib/python3.10/site-packages (from ipywidgets<9,>=7.6.0->ipympl) (0.1.3)\n",
      "Requirement already satisfied: cycler>=0.10 in /Users/viggy/mambaforge/lib/python3.10/site-packages (from matplotlib<4,>=3.5.0->ipympl) (0.12.1)\n",
      "Requirement already satisfied: packaging>=20.0 in /Users/viggy/mambaforge/lib/python3.10/site-packages (from matplotlib<4,>=3.5.0->ipympl) (23.1)\n",
      "Requirement already satisfied: python-dateutil>=2.7 in /Users/viggy/mambaforge/lib/python3.10/site-packages (from matplotlib<4,>=3.5.0->ipympl) (2.8.2)\n",
      "Requirement already satisfied: fonttools>=4.22.0 in /Users/viggy/mambaforge/lib/python3.10/site-packages (from matplotlib<4,>=3.5.0->ipympl) (4.43.1)\n",
      "Requirement already satisfied: kiwisolver>=1.3.1 in /Users/viggy/mambaforge/lib/python3.10/site-packages (from matplotlib<4,>=3.5.0->ipympl) (1.4.5)\n",
      "Requirement already satisfied: contourpy>=1.0.1 in /Users/viggy/mambaforge/lib/python3.10/site-packages (from matplotlib<4,>=3.5.0->ipympl) (1.1.1)\n",
      "Requirement already satisfied: pyparsing>=2.3.1 in /Users/viggy/mambaforge/lib/python3.10/site-packages (from matplotlib<4,>=3.5.0->ipympl) (3.1.1)\n",
      "Requirement already satisfied: parso<0.9.0,>=0.8.0 in /Users/viggy/mambaforge/lib/python3.10/site-packages (from jedi>=0.16->ipython<10->ipympl) (0.8.3)\n",
      "Requirement already satisfied: ptyprocess>=0.5 in /Users/viggy/mambaforge/lib/python3.10/site-packages (from pexpect>4.3->ipython<10->ipympl) (0.7.0)\n",
      "Requirement already satisfied: wcwidth in /Users/viggy/mambaforge/lib/python3.10/site-packages (from prompt-toolkit!=3.0.37,<3.1.0,>=3.0.30->ipython<10->ipympl) (0.2.6)\n",
      "Requirement already satisfied: six>=1.5 in /Users/viggy/mambaforge/lib/python3.10/site-packages (from python-dateutil>=2.7->matplotlib<4,>=3.5.0->ipympl) (1.16.0)\n",
      "Requirement already satisfied: asttokens>=2.1.0 in /Users/viggy/mambaforge/lib/python3.10/site-packages (from stack-data->ipython<10->ipympl) (2.2.1)\n",
      "Requirement already satisfied: pure-eval in /Users/viggy/mambaforge/lib/python3.10/site-packages (from stack-data->ipython<10->ipympl) (0.2.2)\n",
      "Requirement already satisfied: executing>=1.2.0 in /Users/viggy/mambaforge/lib/python3.10/site-packages (from stack-data->ipython<10->ipympl) (1.2.0)\n"
     ]
    }
   ],
   "source": [
    "!pip install plotly[express]\n",
    "!pip install ipywidgets\n",
    "!pip install ipympl\n"
   ]
  },
  {
   "cell_type": "code",
   "execution_count": 2,
   "metadata": {},
   "outputs": [],
   "source": [
    "#import plotly.express as px\n",
    "import numpy as np\n",
    "import pandas as pd\n",
    "import matplotlib.pyplot as plt\n",
    "from ipywidgets import interact\n",
    "\n",
    "%matplotlib widget\n"
   ]
  },
  {
   "cell_type": "code",
   "execution_count": 5,
   "metadata": {},
   "outputs": [
    {
     "data": {
      "text/plain": [
       "56"
      ]
     },
     "execution_count": 5,
     "metadata": {},
     "output_type": "execute_result"
    }
   ],
   "source": [
    "wide = pd.read_csv(\"pos_yas_marina_2016_placeOF_multi_0.csv\", index_col = 0)\n",
    "len(wide.columns)"
   ]
  },
  {
   "cell_type": "code",
   "execution_count": null,
   "metadata": {},
   "outputs": [
    {
     "data": {
      "application/vnd.jupyter.widget-view+json": {
       "model_id": "fbc6883b4cc0429cbfbb61dda752dcea",
       "version_major": 2,
       "version_minor": 0
      },
      "text/plain": [
       "interactive(children=(IntSlider(value=28, description='lap', max=56, min=1), Output()), _dom_classes=('widget-…"
      ]
     },
     "metadata": {},
     "output_type": "display_data"
    },
    {
     "data": {
      "text/plain": [
       "<function __main__.plot_lap(lap: int)>"
      ]
     },
     "execution_count": 4,
     "metadata": {},
     "output_type": "execute_result"
    }
   ],
   "source": [
    "# 2) prepare a helper to grab “driver slots”\n",
    "drivers = list(wide.index)\n",
    "slot = {d: i for i, d in enumerate(drivers, start=1)}\n",
    "\n",
    "\n",
    "# 3) plotting function\n",
    "def plot_lap(lap: int):\n",
    "    plt.figure(figsize=(10, 6))\n",
    "    pos = wide[f\"lap{lap}\"]\n",
    "    xs = [slot[d] for d in pos.index]\n",
    "    ys = pos.values\n",
    "    \n",
    "    # bubbles + text\n",
    "    plt.scatter(xs, ys, s=200, alpha=0.8)\n",
    "    for d, x, y in zip(pos.index, xs, ys):\n",
    "        plt.text(x, y, d[:3], ha=\"center\", va=\"center\", color=\"white\")\n",
    "    \n",
    "    plt.gca().invert_yaxis()\n",
    "    plt.xticks(list(slot.values()), drivers, rotation=90)\n",
    "    plt.ylabel(\"Position\")\n",
    "    plt.title(f\"Lap {lap}\")\n",
    "    plt.tight_layout()\n",
    "    plt.show()\n",
    "    \n",
    "\n",
    "# 4) interactive slider\n",
    "interact(plot_lap, lap=(1, wide.shape[1], 1))\n"
   ]
  },
  {
   "cell_type": "code",
   "execution_count": 10,
   "metadata": {},
   "outputs": [
    {
     "data": {
      "application/vnd.jupyter.widget-view+json": {
       "model_id": "979f370c807d4288ae43e00669ad4f47",
       "version_major": 2,
       "version_minor": 0
      },
      "text/plain": [
       "interactive(children=(IntSlider(value=28, description='lap', max=56, min=1), Output()), _dom_classes=('widget-…"
      ]
     },
     "metadata": {},
     "output_type": "display_data"
    },
    {
     "data": {
      "text/plain": [
       "<function __main__.plot_lap(lap)>"
      ]
     },
     "execution_count": 10,
     "metadata": {},
     "output_type": "execute_result"
    }
   ],
   "source": [
    "#%load_ext widgetsnbextension\n",
    "%matplotlib inline\n",
    "\n",
    "from ipywidgets import interact\n",
    "\n",
    "n_laps = len(wide.columns)\n",
    "\n",
    "def plot_lap(lap):\n",
    "    fig, ax = plt.subplots(figsize=(10, 2))\n",
    "    xs = wide[f\"lap{lap}\"].values\n",
    "    ax.scatter(xs, [0]*len(xs), s=300, alpha=0.8)\n",
    "    for d, x in zip(drivers, xs):\n",
    "        \n",
    "        ax.text(x, 0.1, d[:3], ha=\"center\", va=\"bottom\", color=\"white\", fontsize=8)\n",
    "    ax.set_xlim(0.5, n_laps + 0.5)\n",
    "    ax.set_yticks([])\n",
    "    ax.set_xticks(range(1, n_laps + 1))\n",
    "    ax.set_title(f\"Lap {lap}\")\n",
    "    ax.axis(\"off\")\n",
    "    plt.show()\n",
    "\n",
    "interact(plot_lap, lap=(1, n_laps, 1))"
   ]
  },
  {
   "cell_type": "code",
   "execution_count": null,
   "metadata": {},
   "outputs": [],
   "source": []
  }
 ],
 "metadata": {
  "kernelspec": {
   "display_name": "base",
   "language": "python",
   "name": "python3"
  },
  "language_info": {
   "codemirror_mode": {
    "name": "ipython",
    "version": 3
   },
   "file_extension": ".py",
   "mimetype": "text/x-python",
   "name": "python",
   "nbconvert_exporter": "python",
   "pygments_lexer": "ipython3",
   "version": "3.10.10"
  }
 },
 "nbformat": 4,
 "nbformat_minor": 4
}
