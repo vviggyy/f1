{
 "cells": [
  {
   "cell_type": "code",
   "execution_count": 17,
   "metadata": {},
   "outputs": [],
   "source": [
    "import numpy as np\n",
    "import pandas as pd"
   ]
  },
  {
   "cell_type": "code",
   "execution_count": 18,
   "metadata": {},
   "outputs": [],
   "source": [
    "df1 = pd.read_csv(\"ci/YasMarina_2016_gap_1.csv\")\n",
    "df2 = pd.read_csv(\"ci/YasMarina_2016_gap_2.csv\")\n",
    "df3 = pd.read_csv(\"ci/YasMarina_2016_gap_3.csv\")\n",
    "df4 = pd.read_csv(\"ci/YasMarina_2016_gap_4.csv\")\n",
    "df5 = pd.read_csv(\"ci/YasMarina_2016_gap_5.csv\")\n",
    "df6 = pd.read_csv(\"ci/YasMarina_2016_gap_6.csv\")\n",
    "df7 = pd.read_csv(\"ci/YasMarina_2016_gap_7.csv\")\n",
    "df8 = pd.read_csv(\"ci/YasMarina_2016_gap_8.csv\")\n",
    "df9 = pd.read_csv(\"ci/YasMarina_2016_gap_9.csv\")\n",
    "df10 = pd.read_csv(\"ci/YasMarina_2016_gap_10.csv\")\n",
    "\n",
    "dfs = [df1, df2, df3, df4, df5, df6, df7, df8, df9, df10]"
   ]
  },
  {
   "cell_type": "code",
   "execution_count": 24,
   "metadata": {},
   "outputs": [
    {
     "name": "stdout",
     "output_type": "stream",
     "text": [
      "<class 'numpy.ndarray'>\n",
      "<class 'numpy.ndarray'>\n",
      "<class 'numpy.ndarray'>\n",
      "<class 'numpy.ndarray'>\n",
      "<class 'numpy.ndarray'>\n",
      "<class 'numpy.ndarray'>\n",
      "<class 'numpy.ndarray'>\n",
      "<class 'numpy.ndarray'>\n",
      "<class 'numpy.ndarray'>\n",
      "<class 'numpy.ndarray'>\n"
     ]
    }
   ],
   "source": [
    "dists = []\n",
    "for df in dfs:\n",
    "    dist = np.array(df[df.iloc[:, 0] == \"VET\"].iloc[0,1:])\n",
    "    print(type(dist))\n",
    "    dists.append(dist)"
   ]
  },
  {
   "cell_type": "code",
   "execution_count": 26,
   "metadata": {},
   "outputs": [
    {
     "data": {
      "text/plain": [
       "[array([20, 61, 88, 119, 400, 298, 9, 3, 0, 1, 0, 1, 0, 0, 0, 0, 0, 0, 0,\n",
       "        0, 0, 0], dtype=object),\n",
       " array([23, 60, 63, 139, 390, 323, 1, 1, 0, 0, 0, 0, 0, 0, 0, 0, 0, 0, 0,\n",
       "        0, 0, 0], dtype=object),\n",
       " array([24, 66, 62, 146, 385, 312, 3, 1, 0, 0, 0, 0, 0, 0, 0, 0, 1, 0, 0,\n",
       "        0, 0, 0], dtype=object),\n",
       " array([14, 55, 67, 133, 414, 314, 3, 0, 0, 0, 0, 0, 0, 0, 0, 0, 0, 0, 0,\n",
       "        0, 0, 0], dtype=object),\n",
       " array([16, 48, 75, 144, 402, 305, 8, 1, 0, 0, 1, 0, 0, 0, 0, 0, 0, 0, 0,\n",
       "        0, 0, 0], dtype=object),\n",
       " array([20, 73, 65, 130, 397, 312, 3, 0, 0, 0, 0, 0, 0, 0, 0, 0, 0, 0, 0,\n",
       "        0, 0, 0], dtype=object),\n",
       " array([21, 55, 81, 131, 379, 330, 3, 0, 0, 0, 0, 0, 0, 0, 0, 0, 0, 0, 0,\n",
       "        0, 0, 0], dtype=object),\n",
       " array([22, 52, 80, 140, 386, 315, 3, 2, 0, 0, 0, 0, 0, 0, 0, 0, 0, 0, 0,\n",
       "        0, 0, 0], dtype=object),\n",
       " array([22, 52, 79, 137, 405, 302, 2, 0, 1, 0, 0, 0, 0, 0, 0, 0, 0, 0, 0,\n",
       "        0, 0, 0], dtype=object),\n",
       " array([13, 69, 74, 131, 382, 326, 4, 0, 1, 0, 0, 0, 0, 0, 0, 0, 0, 0, 0,\n",
       "        0, 0, 0], dtype=object)]"
      ]
     },
     "execution_count": 26,
     "metadata": {},
     "output_type": "execute_result"
    }
   ],
   "source": [
    "dists"
   ]
  },
  {
   "cell_type": "code",
   "execution_count": 30,
   "metadata": {},
   "outputs": [
    {
     "name": "stdout",
     "output_type": "stream",
     "text": [
      "Place 1: 19.5 +/- 3.640054944640259\n",
      "Place 2: 59.1 +/- 7.7517739905133975\n",
      "Place 3: 73.4 +/- 8.357032966310472\n",
      "Place 4: 135.0 +/- 7.509993342207435\n",
      "Place 5: 394.0 +/- 10.770329614269007\n",
      "Place 6: 313.7 +/- 9.849365461794987\n",
      "Place 7: 3.9 +/- 2.4269322199023198\n",
      "Place 8: 0.8 +/- 0.9797958971132713\n",
      "Place 9: 0.2 +/- 0.4\n",
      "Place 10: 0.1 +/- 0.30000000000000004\n",
      "Place 11: 0.1 +/- 0.30000000000000004\n",
      "Place 12: 0.1 +/- 0.30000000000000004\n",
      "Place 13: 0.0 +/- 0.0\n",
      "Place 14: 0.0 +/- 0.0\n",
      "Place 15: 0.0 +/- 0.0\n",
      "Place 16: 0.0 +/- 0.0\n",
      "Place 17: 0.1 +/- 0.30000000000000004\n",
      "Place 18: 0.0 +/- 0.0\n",
      "Place 19: 0.0 +/- 0.0\n",
      "Place 20: 0.0 +/- 0.0\n",
      "Place 21: 0.0 +/- 0.0\n",
      "Place 22: 0.0 +/- 0.0\n"
     ]
    }
   ],
   "source": [
    "df_stats = pd.DataFrame(dists)\n",
    "mean = np.mean(df_stats, axis = 0)\n",
    "st = np.std(df_stats, axis = 0)\n",
    "\n",
    "counter = 1\n",
    "for m, s in zip(mean, st):\n",
    "    print(f\"Place {counter}: {m} +/- {s}\")\n",
    "    counter += 1"
   ]
  },
  {
   "cell_type": "code",
   "execution_count": 21,
   "metadata": {},
   "outputs": [
    {
     "name": "stdout",
     "output_type": "stream",
     "text": [
      "[19.5 59.1 73.4 135.0 394.0 313.7 3.9 0.8 0.2 0.1 0.1 0.1 0.0 0.0 0.0 0.0\n",
      " 0.1 0.0 0.0 0.0 0.0 0.0]\n"
     ]
    },
    {
     "ename": "NameError",
     "evalue": "name 'st' is not defined",
     "output_type": "error",
     "traceback": [
      "\u001b[0;31m\u001b[0m",
      "\u001b[0;31mNameError\u001b[0mTraceback (most recent call last)",
      "\u001b[0;32m<ipython-input-21-17d6ee22f8cc>\u001b[0m in \u001b[0;36m<module>\u001b[0;34m\u001b[0m\n\u001b[1;32m      1\u001b[0m \u001b[0mprint\u001b[0m\u001b[0;34m(\u001b[0m\u001b[0mmean\u001b[0m\u001b[0;34m)\u001b[0m\u001b[0;34m\u001b[0m\u001b[0;34m\u001b[0m\u001b[0m\n\u001b[0;32m----> 2\u001b[0;31m \u001b[0mprint\u001b[0m\u001b[0;34m(\u001b[0m\u001b[0mst\u001b[0m\u001b[0;34m)\u001b[0m\u001b[0;34m\u001b[0m\u001b[0;34m\u001b[0m\u001b[0m\n\u001b[0m",
      "\u001b[0;31mNameError\u001b[0m: name 'st' is not defined"
     ]
    }
   ],
   "source": [
    "print(mean)\n",
    "print(st)"
   ]
  },
  {
   "cell_type": "code",
   "execution_count": null,
   "metadata": {},
   "outputs": [],
   "source": []
  },
  {
   "cell_type": "code",
   "execution_count": null,
   "metadata": {},
   "outputs": [],
   "source": []
  }
 ],
 "metadata": {
  "kernelspec": {
   "display_name": "Python 3.8 (py38)",
   "language": "python",
   "name": "py38"
  },
  "language_info": {
   "codemirror_mode": {
    "name": "ipython",
    "version": 3
   },
   "file_extension": ".py",
   "mimetype": "text/x-python",
   "name": "python",
   "nbconvert_exporter": "python",
   "pygments_lexer": "ipython3",
   "version": "3.8.5"
  }
 },
 "nbformat": 4,
 "nbformat_minor": 4
}
